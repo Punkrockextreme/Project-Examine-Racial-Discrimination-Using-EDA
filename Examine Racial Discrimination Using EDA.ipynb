{
 "cells": [
  {
   "cell_type": "code",
   "execution_count": 67,
   "metadata": {},
   "outputs": [],
   "source": [
    "import pandas as pd\n",
    "import numpy as np\n",
    "from scipy import stats\n",
    "dataset= pd.io.stata.read_stata(r'C:\\Users\\jflan\\Downloads\\1538005773_dsc_racial_disc\\EDA_racial_discrimination\\data\\us_job_market_discrimination.dta')"
   ]
  },
  {
   "cell_type": "code",
   "execution_count": 68,
   "metadata": {},
   "outputs": [],
   "source": [
    "# 1. What test is appropriate for this problem? Does CLT apply?\\n\",\n",
    "#    \"   2. What are the null and alternate hypotheses?\\n\",\n",
    "#    \"   3. Compute margin of error, confidence interval, and p-value. Try using both the bootstrapping and the frequentist statistical approaches.\\n\",\n",
    " #   \"   4. Write a story describing the statistical significance in the context or the original problem\n",
    " #   \"   5. Does your analysis mean that race/name is the most important factor in callback success? Why or why not? If not, how would you amend your analysis?"
   ]
  },
  {
   "cell_type": "code",
   "execution_count": 103,
   "metadata": {},
   "outputs": [
    {
     "name": "stdout",
     "output_type": "stream",
     "text": [
      "Index(['id', 'ad', 'education', 'ofjobs', 'yearsexp', 'honors', 'volunteer',\n",
      "       'military', 'empholes', 'occupspecific', 'occupbroad', 'workinschool',\n",
      "       'email', 'computerskills', 'specialskills', 'firstname', 'sex', 'race',\n",
      "       'h', 'l', 'call', 'city', 'kind', 'adid', 'fracblack', 'fracwhite',\n",
      "       'lmedhhinc', 'fracdropout', 'fraccolp', 'linc', 'col', 'expminreq',\n",
      "       'schoolreq', 'eoe', 'parent_sales', 'parent_emp', 'branch_sales',\n",
      "       'branch_emp', 'fed', 'fracblack_empzip', 'fracwhite_empzip',\n",
      "       'lmedhhinc_empzip', 'fracdropout_empzip', 'fraccolp_empzip',\n",
      "       'linc_empzip', 'manager', 'supervisor', 'secretary', 'offsupport',\n",
      "       'salesrep', 'retailsales', 'req', 'expreq', 'comreq', 'educreq',\n",
      "       'compreq', 'orgreq', 'manuf', 'transcom', 'bankreal', 'trade',\n",
      "       'busservice', 'othservice', 'missind', 'ownership'],\n",
      "      dtype='object')\n",
      "4870\n"
     ]
    }
   ],
   "source": [
    "print(dataset.keys())\n",
    "print(len(dataset))"
   ]
  },
  {
   "cell_type": "code",
   "execution_count": 70,
   "metadata": {},
   "outputs": [
    {
     "name": "stdout",
     "output_type": "stream",
     "text": [
      "0    w\n",
      "1    w\n",
      "2    b\n",
      "3    b\n",
      "4    w\n",
      "5    w\n",
      "6    w\n",
      "7    b\n",
      "8    b\n",
      "9    b\n",
      "Name: race, dtype: object\n"
     ]
    }
   ],
   "source": [
    "print(dataset.race.head(10))"
   ]
  },
  {
   "cell_type": "code",
   "execution_count": 71,
   "metadata": {},
   "outputs": [],
   "source": [
    "#1 CLT would apply as there is a large number of samples, 4870, so we assume the sample should be representative of the larger population.\n",
    "#The ultimate question we are trying to solve is whether or not there is racial descrimination in the amount of people who receive a call back based on their race\n",
    "# the way we can check for this is taking a percentage of white sounding names vs black sounding names and find out the differences between the two.\n",
    "#The test we can use is a 2 sample t-test as we are finding whether the average difference between two groups is statistically significant "
   ]
  },
  {
   "cell_type": "code",
   "execution_count": 72,
   "metadata": {},
   "outputs": [],
   "source": [
    "#2the null hypothesis is \"There is no statistical difference in call backs based on the race of the name\"\n",
    "#The alternative hypothesis is \"There is statistically significant difference in call backs based on the race of the name\""
   ]
  },
  {
   "cell_type": "code",
   "execution_count": 73,
   "metadata": {},
   "outputs": [
    {
     "name": "stdout",
     "output_type": "stream",
     "text": [
      "2435\n",
      "157.0\n"
     ]
    }
   ],
   "source": [
    "#3 Let's look at the margin of error\n",
    "# I will be using the confidence level 95%. First I need to find the variance for both populations\n",
    "# Let's start with the numbers of people who were sampled that were black sounding/ received called\n",
    "\n",
    "black_total=sum(dataset.race=='b')\n",
    "print(black_total)\n",
    "black_call=sum(dataset[dataset.race=='b'].call)\n",
    "print(black_call)"
   ]
  },
  {
   "cell_type": "code",
   "execution_count": 74,
   "metadata": {},
   "outputs": [
    {
     "name": "stdout",
     "output_type": "stream",
     "text": [
      "2435\n",
      "235.0\n"
     ]
    }
   ],
   "source": [
    "#same method for white sounding names\n",
    "white_total= sum(dataset.race=='w')\n",
    "print(white_total)\n",
    "white_call=sum(dataset[dataset.race=='w'].call)\n",
    "print(white_call)"
   ]
  },
  {
   "cell_type": "code",
   "execution_count": 75,
   "metadata": {},
   "outputs": [
    {
     "name": "stdout",
     "output_type": "stream",
     "text": [
      "0.06447638603696099 0.09650924024640657\n"
     ]
    }
   ],
   "source": [
    "# percentages for both\n",
    "p_black_called=black_call/white_total\n",
    "p_white_called=white_call/black_total\n",
    "print(p_black_called,p_white_called)"
   ]
  },
  {
   "cell_type": "code",
   "execution_count": 76,
   "metadata": {},
   "outputs": [
    {
     "name": "stdout",
     "output_type": "stream",
     "text": [
      "2.4771737856498466e-05\n"
     ]
    }
   ],
   "source": [
    "#black callback variace\n",
    "variance_black=(p_black_called*(1-p_black_called)/black_total)\n",
    "print(variance_black)"
   ]
  },
  {
   "cell_type": "code",
   "execution_count": 77,
   "metadata": {},
   "outputs": [
    {
     "name": "stdout",
     "output_type": "stream",
     "text": [
      "3.580911983304638e-05\n"
     ]
    }
   ],
   "source": [
    "#white callback variance\n",
    "variance_white=(p_white_called*(1-p_white_called)/white_total)\n",
    "print(variance_white)"
   ]
  },
  {
   "cell_type": "code",
   "execution_count": 78,
   "metadata": {},
   "outputs": [],
   "source": [
    "#sampling distribution for variances\n",
    "variance=variance_black+variance_white"
   ]
  },
  {
   "cell_type": "code",
   "execution_count": 79,
   "metadata": {},
   "outputs": [
    {
     "name": "stdout",
     "output_type": "stream",
     "text": [
      "0.015255406349886438\n"
     ]
    }
   ],
   "source": [
    "#calc margin of error\n",
    "margin_error=np.sqrt(variance)*1.96\n",
    "print(margin_error)"
   ]
  },
  {
   "cell_type": "code",
   "execution_count": 83,
   "metadata": {},
   "outputs": [
    {
     "name": "stdout",
     "output_type": "stream",
     "text": [
      "0.016777447859559147 0.047288260559332024 0.032032854209445585\n"
     ]
    }
   ],
   "source": [
    "#check if it's within sampling dist variance. COME BACK TO THIS!!!\n",
    "dif=abs(p_black_called-p_white_called)\n",
    "min_dif=dif-margin_error\n",
    "max_dif=dif+margin_error\n",
    "print(min_dif,max_dif,dif)"
   ]
  },
  {
   "cell_type": "code",
   "execution_count": 100,
   "metadata": {},
   "outputs": [
    {
     "name": "stdout",
     "output_type": "stream",
     "text": [
      "4713.53819343226\n"
     ]
    }
   ],
   "source": [
    "#calculating the degrees of freedom\n",
    "black_df=variance_black/black_total\n",
    "white_df=variance_white/white_total\n",
    "df=((black_df+white_df)**2)/(((black_df**2)/black_total)+((white_df**2)/white_total))\n",
    "print(df)"
   ]
  },
  {
   "cell_type": "code",
   "execution_count": 87,
   "metadata": {},
   "outputs": [
    {
     "name": "stdout",
     "output_type": "stream",
     "text": [
      "0.0077833705866767544\n"
     ]
    }
   ],
   "source": [
    "#lets work out the t/ p values\n",
    "standard_e= np.sqrt(variance)\n",
    "print(standard_e)"
   ]
  },
  {
   "cell_type": "code",
   "execution_count": 89,
   "metadata": {},
   "outputs": [
    {
     "name": "stdout",
     "output_type": "stream",
     "text": [
      "-4.11555043573\n"
     ]
    }
   ],
   "source": [
    "t_value=((p_black_called-p_white_called)-0)/standard_e\n",
    "print(t_value)"
   ]
  },
  {
   "cell_type": "code",
   "execution_count": 92,
   "metadata": {},
   "outputs": [
    {
     "name": "stdout",
     "output_type": "stream",
     "text": [
      "3.883831746581082e-05\n"
     ]
    }
   ],
   "source": [
    "p_value=stats.t.sf(np.abs(t_value),df)*2\n",
    "print(p_value)"
   ]
  },
  {
   "cell_type": "code",
   "execution_count": 97,
   "metadata": {},
   "outputs": [],
   "source": [
    "black=dataset[dataset.race=='b'].call\n",
    "white=dataset[dataset.race=='w'].call"
   ]
  },
  {
   "cell_type": "code",
   "execution_count": 99,
   "metadata": {},
   "outputs": [
    {
     "data": {
      "text/plain": [
       "Ttest_indResult(statistic=-4.114705290861751, pvalue=3.942941513645935e-05)"
      ]
     },
     "execution_count": 99,
     "metadata": {},
     "output_type": "execute_result"
    }
   ],
   "source": [
    "stats.ttest_ind(black,white,equal_var=False)"
   ]
  },
  {
   "cell_type": "code",
   "execution_count": null,
   "metadata": {},
   "outputs": [],
   "source": [
    "#Q4\n",
    "#p value is less than .05 so we will reject the null hypothesis. This means that there is a statistically significant difference in the effect black and white sounding names have on callbacks\n",
    "#Per our confidence interval we can say that we are 95% condfident that a black or white sounding name could influence the rate of callback by 1.7-4.7%. This is a major issue considering how few people received callbacks <10%\n",
    "#q5 I would assume that race is not the most important factor considering it's a small margin of difference in an already small margin. We can assume that there are other reasons that 90% of applicants didn't receive calls in the test. Considering the fact that there are 65 different variables each variable should be tested and ranked on which correlated with a higher call rate. \n",
    "#This could get us closer to figuring out the entire story of causation \n"
   ]
  }
 ],
 "metadata": {
  "kernelspec": {
   "display_name": "Python 3",
   "language": "python",
   "name": "python3"
  },
  "language_info": {
   "codemirror_mode": {
    "name": "ipython",
    "version": 3
   },
   "file_extension": ".py",
   "mimetype": "text/x-python",
   "name": "python",
   "nbconvert_exporter": "python",
   "pygments_lexer": "ipython3",
   "version": "3.7.0"
  }
 },
 "nbformat": 4,
 "nbformat_minor": 2
}
